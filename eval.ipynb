{
 "cells": [
  {
   "cell_type": "markdown",
   "id": "c32f97df-c938-4428-bd07-aed592bd3a76",
   "metadata": {},
   "source": [
    "# 0. Load model and dataset"
   ]
  },
  {
   "cell_type": "code",
   "execution_count": 1,
   "id": "aa0adf9f-8fba-4857-ac04-b741ac913ab8",
   "metadata": {},
   "outputs": [
    {
     "name": "stderr",
     "output_type": "stream",
     "text": [
      "/home/deic/miniconda3/envs/zuoxin/lib/python3.11/site-packages/tqdm/auto.py:21: TqdmWarning: IProgress not found. Please update jupyter and ipywidgets. See https://ipywidgets.readthedocs.io/en/stable/user_install.html\n",
      "  from .autonotebook import tqdm as notebook_tqdm\n",
      "/home/deic/miniconda3/envs/zuoxin/lib/python3.11/site-packages/timm/models/layers/__init__.py:48: FutureWarning: Importing from timm.models.layers is deprecated, please import via timm.layers\n",
      "  warnings.warn(f\"Importing from {__name__} is deprecated, please import via timm.layers\", FutureWarning)\n",
      "2025-07-11 11:57:12.977201: I tensorflow/tsl/cuda/cudart_stub.cc:28] Could not find cuda drivers on your machine, GPU will not be used.\n",
      "2025-07-11 11:57:13.000727: E tensorflow/compiler/xla/stream_executor/cuda/cuda_dnn.cc:9342] Unable to register cuDNN factory: Attempting to register factory for plugin cuDNN when one has already been registered\n",
      "2025-07-11 11:57:13.000745: E tensorflow/compiler/xla/stream_executor/cuda/cuda_fft.cc:609] Unable to register cuFFT factory: Attempting to register factory for plugin cuFFT when one has already been registered\n",
      "2025-07-11 11:57:13.000774: E tensorflow/compiler/xla/stream_executor/cuda/cuda_blas.cc:1518] Unable to register cuBLAS factory: Attempting to register factory for plugin cuBLAS when one has already been registered\n",
      "2025-07-11 11:57:13.006045: I tensorflow/core/platform/cpu_feature_guard.cc:182] This TensorFlow binary is optimized to use available CPU instructions in performance-critical operations.\n",
      "To enable the following instructions: AVX2 FMA, in other operations, rebuild TensorFlow with the appropriate compiler flags.\n",
      "2025-07-11 11:57:13.527977: W tensorflow/compiler/tf2tensorrt/utils/py_utils.cc:38] TF-TRT Warning: Could not find TensorRT\n"
     ]
    }
   ],
   "source": [
    "import torch, os, rasterio, skimage\n",
    "from addict import Dict\n",
    "import matplotlib.pyplot as plt\n",
    "import numpy as np\n",
    "import pandas as pd\n",
    "from torch.utils.data import DataLoader\n",
    "from ptflops import get_model_complexity_info\n",
    "\n",
    "from dataset import HySpecNet11k\n",
    "from SwinCom import SpectralGroupSwinUNet\n",
    "\n",
    "def Entropy(inputs):\n",
    "    _, counts = np.unique(inputs, return_counts=True)\n",
    "    p = counts/sum(counts)\n",
    "    entropy = -sum(p*np.log2(p))\n",
    "    return entropy\n",
    "\n",
    "def fit(x, y):\n",
    "    c, h, w = x.shape\n",
    "    y, x = y.transpose(1, 2, 0).reshape(-1, c), x.transpose(1, 2, 0).reshape(-1, c)\n",
    "    mean_y, mean_x = y.mean(), x.mean()\n",
    "    y, x = y - mean_y, x - mean_x\n",
    "    \n",
    "    beta = np.linalg.pinv(x.T @ x) @ x.T @ y\n",
    "    y_ = np.round((x @ beta) + mean_y)\n",
    "    y_ = y_.reshape(h, w, c).transpose(2, 0, 1).astype(np.int16)\n",
    "    return y_, beta"
   ]
  },
  {
   "cell_type": "code",
   "execution_count": 2,
   "id": "fdf5147a-d6d6-4b69-9549-3b918132c222",
   "metadata": {},
   "outputs": [
    {
     "name": "stderr",
     "output_type": "stream",
     "text": [
      "/home/deic/miniconda3/envs/zuoxin/lib/python3.11/site-packages/torch/functional.py:539: UserWarning: torch.meshgrid: in an upcoming release, it will be required to pass the indexing argument. (Triggered internally at /pytorch/aten/src/ATen/native/TensorShape.cpp:3637.)\n",
      "  return _VF.meshgrid(tensors, **kwargs)  # type: ignore[attr-defined]\n"
     ]
    },
    {
     "data": {
      "text/html": [
       "<div>\n",
       "<style scoped>\n",
       "    .dataframe tbody tr th:only-of-type {\n",
       "        vertical-align: middle;\n",
       "    }\n",
       "\n",
       "    .dataframe tbody tr th {\n",
       "        vertical-align: top;\n",
       "    }\n",
       "\n",
       "    .dataframe thead th {\n",
       "        text-align: right;\n",
       "    }\n",
       "</style>\n",
       "<table border=\"1\" class=\"dataframe\">\n",
       "  <thead>\n",
       "    <tr style=\"text-align: right;\">\n",
       "      <th></th>\n",
       "      <th>BitShift</th>\n",
       "      <th>PSNR</th>\n",
       "      <th>SSIM</th>\n",
       "      <th>Entropy_MSB</th>\n",
       "      <th>Entropy_residual</th>\n",
       "    </tr>\n",
       "  </thead>\n",
       "  <tbody>\n",
       "    <tr>\n",
       "      <th>0</th>\n",
       "      <td>6.0</td>\n",
       "      <td>45.280275</td>\n",
       "      <td>0.992801</td>\n",
       "      <td>2.171043</td>\n",
       "      <td>6.371312</td>\n",
       "    </tr>\n",
       "    <tr>\n",
       "      <th>1</th>\n",
       "      <td>7.0</td>\n",
       "      <td>44.883903</td>\n",
       "      <td>0.992062</td>\n",
       "      <td>1.488202</td>\n",
       "      <td>6.376611</td>\n",
       "    </tr>\n",
       "    <tr>\n",
       "      <th>2</th>\n",
       "      <td>8.0</td>\n",
       "      <td>43.726225</td>\n",
       "      <td>0.989210</td>\n",
       "      <td>0.955253</td>\n",
       "      <td>6.405887</td>\n",
       "    </tr>\n",
       "    <tr>\n",
       "      <th>3</th>\n",
       "      <td>9.0</td>\n",
       "      <td>40.922772</td>\n",
       "      <td>0.977838</td>\n",
       "      <td>0.557075</td>\n",
       "      <td>6.475108</td>\n",
       "    </tr>\n",
       "    <tr>\n",
       "      <th>4</th>\n",
       "      <td>10.0</td>\n",
       "      <td>38.579958</td>\n",
       "      <td>0.963324</td>\n",
       "      <td>0.340648</td>\n",
       "      <td>6.529373</td>\n",
       "    </tr>\n",
       "  </tbody>\n",
       "</table>\n",
       "</div>"
      ],
      "text/plain": [
       "   BitShift       PSNR      SSIM  Entropy_MSB  Entropy_residual\n",
       "0       6.0  45.280275  0.992801     2.171043          6.371312\n",
       "1       7.0  44.883903  0.992062     1.488202          6.376611\n",
       "2       8.0  43.726225  0.989210     0.955253          6.405887\n",
       "3       9.0  40.922772  0.977838     0.557075          6.475108\n",
       "4      10.0  38.579958  0.963324     0.340648          6.529373"
      ]
     },
     "execution_count": 2,
     "metadata": {},
     "output_type": "execute_result"
    }
   ],
   "source": [
    "bit_shift=10\n",
    "\n",
    "res = pd.DataFrame([])\n",
    "with torch.no_grad():\n",
    "    for bit_shift in [6, 7, 8, 9, 10]:\n",
    "        model = SpectralGroupSwinUNet().from_pretrained(f'PreTrain/SGSU_K={bit_shift}').to('cpu')\n",
    "        test_set = HySpecNet11k('/home/deic/zuoxin/Dataset/HySpecNet11k', 'easy', mode=\"test\", bit_shift=bit_shift, is_total=False)\n",
    "        psnr, ssim, Entropy_img, Entropy_MSB, Entropy_residual, Entropy_residual2 = [], [], [], [], [], []\n",
    "        for file in test_set.files:\n",
    "            img, msb = test_set.load_data(file)\n",
    "            out = torch.clamp(model(test_set.prepare_msb(msb).unsqueeze(0)), 0.0, 1.0)\n",
    "            out = np.round(out.squeeze().detach().numpy() * 10000).astype(np.int16)\n",
    "            out, beta = fit(out, img)\n",
    "            max_value = np.max([out.max(), img.max()])\n",
    "            psnr.append(skimage.metrics.peak_signal_noise_ratio(out, img, data_range=max_value))\n",
    "            ssim.append(skimage.metrics.structural_similarity(out, img, data_range=max_value))\n",
    "            residual = img - out\n",
    "            residual = np.concatenate([residual[0][None, :], residual[1:]-residual[:-1]], axis=0)\n",
    "            msb = img >> bit_shift\n",
    "            msb = np.concatenate([msb[0][None, :], msb[1:]-msb[:-1]], axis=0)\n",
    "            Entropy_MSB.append(Entropy(msb))\n",
    "            Entropy_residual.append(Entropy(residual))\n",
    "            \n",
    "        metrix = dict(BitShift=int(bit_shift), PSNR=np.mean(psnr), SSIM=np.mean(ssim), \n",
    "                      Entropy_MSB=np.mean(Entropy_MSB), Entropy_residual=np.mean(Entropy_residual))\n",
    "        res = pd.concat([res, pd.Series(metrix)], axis=1)\n",
    "res = res.T\n",
    "res = res.reset_index(drop=True)\n",
    "res"
   ]
  },
  {
   "cell_type": "code",
   "execution_count": 3,
   "id": "212b4110-306a-44f4-9f8a-ada6ce9f8418",
   "metadata": {},
   "outputs": [
    {
     "name": "stdout",
     "output_type": "stream",
     "text": [
      "FLOPs: 13.62 GMac\n",
      "Params: 32.56 M\n"
     ]
    }
   ],
   "source": [
    "macs, params = get_model_complexity_info(\n",
    "    model, (202, 128, 128), \n",
    "    as_strings=True,\n",
    "    print_per_layer_stat=False, \n",
    "    verbose=False)\n",
    "print(f'FLOPs: {macs}')\n",
    "print(f'Params: {params}')"
   ]
  },
  {
   "cell_type": "code",
   "execution_count": null,
   "id": "adc1e7e7-7e33-45fd-aef4-26c63408ebe2",
   "metadata": {},
   "outputs": [],
   "source": []
  }
 ],
 "metadata": {
  "kernelspec": {
   "display_name": "Python 3 (ipykernel)",
   "language": "python",
   "name": "python3"
  },
  "language_info": {
   "codemirror_mode": {
    "name": "ipython",
    "version": 3
   },
   "file_extension": ".py",
   "mimetype": "text/x-python",
   "name": "python",
   "nbconvert_exporter": "python",
   "pygments_lexer": "ipython3",
   "version": "3.11.5"
  }
 },
 "nbformat": 4,
 "nbformat_minor": 5
}
