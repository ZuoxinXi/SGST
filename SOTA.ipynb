{
 "cells": [
  {
   "cell_type": "markdown",
   "id": "c32f97df-c938-4428-bd07-aed592bd3a76",
   "metadata": {},
   "source": [
    "# 0. Load model and dataset"
   ]
  },
  {
   "cell_type": "code",
   "execution_count": 3,
   "id": "aa0adf9f-8fba-4857-ac04-b741ac913ab8",
   "metadata": {},
   "outputs": [],
   "source": [
    "import torch, skimage\n",
    "import matplotlib.pyplot as plt\n",
    "import pandas as pd\n",
    "import numpy as np\n",
    "from torch.utils.data import DataLoader\n",
    "\n",
    "from dataset import HySpecNet11k\n",
    "from cae1dm import ModifiedConvolutionalAutoencoder1D\n",
    "from cae3d import ConvolutionalAutoencoder3D\n",
    "from sscnet import SpectralSignalsCompressorNetwork\n",
    "\n",
    "def Entropy(inputs):\n",
    "    _, counts = np.unique(inputs, return_counts=True)\n",
    "    p = counts/sum(counts)\n",
    "    entropy = -sum(p*np.log2(p))\n",
    "    return entropy\n",
    "\n",
    "device = 'cpu'"
   ]
  },
  {
   "cell_type": "code",
   "execution_count": 4,
   "id": "393884c5-81e5-425a-a279-b57e4e5268c6",
   "metadata": {},
   "outputs": [
    {
     "name": "stdout",
     "output_type": "stream",
     "text": [
      "(51, 128, 128)\n",
      "(26, 128, 128)\n"
     ]
    },
    {
     "data": {
      "text/html": [
       "<div>\n",
       "<style scoped>\n",
       "    .dataframe tbody tr th:only-of-type {\n",
       "        vertical-align: middle;\n",
       "    }\n",
       "\n",
       "    .dataframe tbody tr th {\n",
       "        vertical-align: top;\n",
       "    }\n",
       "\n",
       "    .dataframe thead th {\n",
       "        text-align: right;\n",
       "    }\n",
       "</style>\n",
       "<table border=\"1\" class=\"dataframe\">\n",
       "  <thead>\n",
       "    <tr style=\"text-align: right;\">\n",
       "      <th></th>\n",
       "      <th>PSNR</th>\n",
       "      <th>SSIM</th>\n",
       "      <th>Entropy_latent</th>\n",
       "      <th>Entropy_residual</th>\n",
       "    </tr>\n",
       "  </thead>\n",
       "  <tbody>\n",
       "    <tr>\n",
       "      <th>0</th>\n",
       "      <td>48.940532</td>\n",
       "      <td>0.996237</td>\n",
       "      <td>19.610544</td>\n",
       "      <td>5.887086</td>\n",
       "    </tr>\n",
       "    <tr>\n",
       "      <th>0</th>\n",
       "      <td>49.195384</td>\n",
       "      <td>0.996447</td>\n",
       "      <td>18.675422</td>\n",
       "      <td>5.825818</td>\n",
       "    </tr>\n",
       "  </tbody>\n",
       "</table>\n",
       "</div>"
      ],
      "text/plain": [
       "        PSNR      SSIM  Entropy_latent  Entropy_residual\n",
       "0  48.940532  0.996237       19.610544          5.887086\n",
       "0  49.195384  0.996447       18.675422          5.825818"
      ]
     },
     "execution_count": 4,
     "metadata": {},
     "output_type": "execute_result"
    }
   ],
   "source": [
    "res = pd.DataFrame([])\n",
    "with torch.no_grad():\n",
    "    for cr in [4, 8]:\n",
    "        model = ModifiedConvolutionalAutoencoder1D().from_pretrained(f'SOTA/CAE_1DM_{cr}').to(device)\n",
    "        test_set = HySpecNet11k('/home/deic/zuoxin/Dataset/HySpecNet11k', 'easy', mode=\"test\", bit_shift=0, is_total=False)\n",
    "        psnr, ssim, Entropy_latent, Entropy_residual = [], [], [], []\n",
    "        for file in test_set.files:\n",
    "            img, msb = test_set.load_data(file)\n",
    "            msb = test_set.prepare_msb(msb).unsqueeze(0).to(device)\n",
    "            latent = model.compress(msb)\n",
    "            out = model.decompress(latent)\n",
    "            latent, out = latent.squeeze().detach().cpu().numpy(), out.squeeze().detach().cpu().numpy()\n",
    "            out = np.round(out * 10000).astype(np.int16)\n",
    "            residual = img - out\n",
    "            max_value = np.max([out.max(), img.max()])\n",
    "            psnr.append(skimage.metrics.peak_signal_noise_ratio(out, img, data_range=max_value))\n",
    "            ssim.append(skimage.metrics.structural_similarity(out, img, data_range=max_value))\n",
    "            Entropy_latent.append(Entropy(latent))\n",
    "            Entropy_residual.append(Entropy(residual))\n",
    "        print(latent.shape)\n",
    "        metrix = dict(PSNR=np.mean(psnr), SSIM=np.mean(ssim), Entropy_latent=np.mean(Entropy_latent), Entropy_residual=np.mean(Entropy_residual))\n",
    "        res = pd.concat([res, pd.Series(metrix)], axis=1)\n",
    "res = res.T\n",
    "res"
   ]
  },
  {
   "cell_type": "code",
   "execution_count": 5,
   "id": "c8a956b7-93ac-4667-8fc2-8e60f6206ffa",
   "metadata": {},
   "outputs": [
    {
     "name": "stdout",
     "output_type": "stream",
     "text": [
      "(8, 51, 16, 16)\n",
      "(16, 51, 16, 16)\n",
      "(32, 51, 16, 16)\n",
      "(64, 51, 16, 16)\n"
     ]
    },
    {
     "data": {
      "text/html": [
       "<div>\n",
       "<style scoped>\n",
       "    .dataframe tbody tr th:only-of-type {\n",
       "        vertical-align: middle;\n",
       "    }\n",
       "\n",
       "    .dataframe tbody tr th {\n",
       "        vertical-align: top;\n",
       "    }\n",
       "\n",
       "    .dataframe thead th {\n",
       "        text-align: right;\n",
       "    }\n",
       "</style>\n",
       "<table border=\"1\" class=\"dataframe\">\n",
       "  <thead>\n",
       "    <tr style=\"text-align: right;\">\n",
       "      <th></th>\n",
       "      <th>PSNR</th>\n",
       "      <th>SSIM</th>\n",
       "      <th>Entropy_latent</th>\n",
       "      <th>Entropy_residual</th>\n",
       "    </tr>\n",
       "  </thead>\n",
       "  <tbody>\n",
       "    <tr>\n",
       "      <th>0</th>\n",
       "      <td>29.774080</td>\n",
       "      <td>0.701279</td>\n",
       "      <td>16.670131</td>\n",
       "      <td>9.098748</td>\n",
       "    </tr>\n",
       "    <tr>\n",
       "      <th>0</th>\n",
       "      <td>30.660788</td>\n",
       "      <td>0.736808</td>\n",
       "      <td>17.668308</td>\n",
       "      <td>8.959527</td>\n",
       "    </tr>\n",
       "    <tr>\n",
       "      <th>0</th>\n",
       "      <td>30.912238</td>\n",
       "      <td>0.753115</td>\n",
       "      <td>18.664715</td>\n",
       "      <td>8.921971</td>\n",
       "    </tr>\n",
       "    <tr>\n",
       "      <th>0</th>\n",
       "      <td>31.234655</td>\n",
       "      <td>0.874882</td>\n",
       "      <td>19.655705</td>\n",
       "      <td>8.754467</td>\n",
       "    </tr>\n",
       "  </tbody>\n",
       "</table>\n",
       "</div>"
      ],
      "text/plain": [
       "        PSNR      SSIM  Entropy_latent  Entropy_residual\n",
       "0  29.774080  0.701279       16.670131          9.098748\n",
       "0  30.660788  0.736808       17.668308          8.959527\n",
       "0  30.912238  0.753115       18.664715          8.921971\n",
       "0  31.234655  0.874882       19.655705          8.754467"
      ]
     },
     "execution_count": 5,
     "metadata": {},
     "output_type": "execute_result"
    }
   ],
   "source": [
    "res = pd.DataFrame([])\n",
    "for i in [8, 16, 32, 64]:\n",
    "    with torch.no_grad():\n",
    "        model = ConvolutionalAutoencoder3D().from_pretrained(f'SOTA/CAE_3D_{i}').to(device)\n",
    "        test_set = HySpecNet11k('/home/deic/zuoxin/Dataset/HySpecNet11k', 'easy', mode=\"test\", bit_shift=0, is_total=False)\n",
    "        psnr, ssim, Entropy_latent, Entropy_residual = [], [], [], []\n",
    "        for file in test_set.files:\n",
    "            img, msb = test_set.load_data(file)\n",
    "            msb = test_set.prepare_msb(msb).unsqueeze(0).to(device)\n",
    "            latent = model.compress(msb)\n",
    "            out = model.decompress(latent)\n",
    "            latent, out = latent.squeeze().detach().cpu().numpy(), out.squeeze().detach().cpu().numpy()\n",
    "            out = np.round(out * 10000).astype(np.int16)\n",
    "            residual = img - out\n",
    "            max_value = np.max([out.max(), img.max()])\n",
    "            psnr.append(skimage.metrics.peak_signal_noise_ratio(out, img, data_range=max_value))\n",
    "            ssim.append(skimage.metrics.structural_similarity(out, img, data_range=max_value))\n",
    "            Entropy_latent.append(Entropy(latent))\n",
    "            Entropy_residual.append(Entropy(residual))\n",
    "        print(latent.shape)\n",
    "        metrix = dict(PSNR=np.mean(psnr), SSIM=np.mean(ssim), Entropy_latent=np.mean(Entropy_latent), Entropy_residual=np.mean(Entropy_residual))\n",
    "        res = pd.concat([res, pd.Series(metrix)], axis=1)\n",
    "\n",
    "res = res.T\n",
    "res"
   ]
  },
  {
   "cell_type": "code",
   "execution_count": 6,
   "id": "8b9ff350-5d8c-4178-aadd-cd8c9b2fa075",
   "metadata": {},
   "outputs": [
    {
     "name": "stdout",
     "output_type": "stream",
     "text": [
      "(3232, 16, 16)\n",
      "(1616, 16, 16)\n",
      "(808, 16, 16)\n",
      "(404, 16, 16)\n"
     ]
    },
    {
     "data": {
      "text/html": [
       "<div>\n",
       "<style scoped>\n",
       "    .dataframe tbody tr th:only-of-type {\n",
       "        vertical-align: middle;\n",
       "    }\n",
       "\n",
       "    .dataframe tbody tr th {\n",
       "        vertical-align: top;\n",
       "    }\n",
       "\n",
       "    .dataframe thead th {\n",
       "        text-align: right;\n",
       "    }\n",
       "</style>\n",
       "<table border=\"1\" class=\"dataframe\">\n",
       "  <thead>\n",
       "    <tr style=\"text-align: right;\">\n",
       "      <th></th>\n",
       "      <th>PSNR</th>\n",
       "      <th>SSIM</th>\n",
       "      <th>Entropy_latent</th>\n",
       "      <th>Entropy_residual</th>\n",
       "    </tr>\n",
       "  </thead>\n",
       "  <tbody>\n",
       "    <tr>\n",
       "      <th>0</th>\n",
       "      <td>31.906037</td>\n",
       "      <td>0.805598</td>\n",
       "      <td>19.646980</td>\n",
       "      <td>8.764809</td>\n",
       "    </tr>\n",
       "    <tr>\n",
       "      <th>0</th>\n",
       "      <td>31.653874</td>\n",
       "      <td>0.797025</td>\n",
       "      <td>18.651877</td>\n",
       "      <td>8.805354</td>\n",
       "    </tr>\n",
       "    <tr>\n",
       "      <th>0</th>\n",
       "      <td>31.107048</td>\n",
       "      <td>0.781065</td>\n",
       "      <td>17.654591</td>\n",
       "      <td>8.892290</td>\n",
       "    </tr>\n",
       "    <tr>\n",
       "      <th>0</th>\n",
       "      <td>30.722654</td>\n",
       "      <td>0.767784</td>\n",
       "      <td>16.656178</td>\n",
       "      <td>8.956616</td>\n",
       "    </tr>\n",
       "  </tbody>\n",
       "</table>\n",
       "</div>"
      ],
      "text/plain": [
       "        PSNR      SSIM  Entropy_latent  Entropy_residual\n",
       "0  31.906037  0.805598       19.646980          8.764809\n",
       "0  31.653874  0.797025       18.651877          8.805354\n",
       "0  31.107048  0.781065       17.654591          8.892290\n",
       "0  30.722654  0.767784       16.656178          8.956616"
      ]
     },
     "execution_count": 6,
     "metadata": {},
     "output_type": "execute_result"
    }
   ],
   "source": [
    "res = pd.DataFrame([])\n",
    "for i in [4, 8, 16, 32]:\n",
    "    with torch.no_grad():\n",
    "        model = SpectralSignalsCompressorNetwork().from_pretrained(f'SOTA/SSCNET_{i}').to(device)\n",
    "        test_set = HySpecNet11k('/home/deic/zuoxin/Dataset/HySpecNet11k', 'easy', mode=\"test\", bit_shift=0, is_total=False)\n",
    "        psnr, ssim, Entropy_latent, Entropy_residual = [], [], [], []\n",
    "        for file in test_set.files:\n",
    "            img, msb = test_set.load_data(file)\n",
    "            msb = test_set.prepare_msb(msb).unsqueeze(0).to(device)\n",
    "            latent = model.compress(msb)\n",
    "            out = model.decompress(latent)\n",
    "            latent, out = latent.squeeze().detach().cpu().numpy(), out.squeeze().detach().cpu().numpy()\n",
    "            out = np.round(out * 10000).astype(np.int16)\n",
    "            residual = img - out\n",
    "            max_value = np.max([out.max(), img.max()])\n",
    "            psnr.append(skimage.metrics.peak_signal_noise_ratio(out, img, data_range=max_value))\n",
    "            ssim.append(skimage.metrics.structural_similarity(out, img, data_range=max_value))\n",
    "            Entropy_latent.append(Entropy(latent))\n",
    "            Entropy_residual.append(Entropy(residual))\n",
    "        print(latent.shape)\n",
    "        metrix = dict(PSNR=np.mean(psnr), SSIM=np.mean(ssim), Entropy_latent=np.mean(Entropy_latent), Entropy_residual=np.mean(Entropy_residual))\n",
    "        res = pd.concat([res, pd.Series(metrix)], axis=1)\n",
    "res = res.T\n",
    "res"
   ]
  },
  {
   "cell_type": "code",
   "execution_count": 13,
   "id": "8a9d8c5b-96bf-4da8-9dc5-cc0e12af4048",
   "metadata": {},
   "outputs": [],
   "source": [
    "cae1d =  pd.DataFrame(dict(\n",
    "    psnr=[48.940532, 49.195384], \n",
    "    entropy1=[19.610544, 18.675422], \n",
    "    entropy2=[5.887086, 5.825818], \n",
    "    cr=[(51*128*128)/3309568, (26*128*128)/3309568]))\n",
    "\n",
    "cae3d =  pd.DataFrame(dict(\n",
    "    psnr=[29.774080, 30.660788, 30.912238, 31.234655], \n",
    "    entropy1=[16.670131, 17.668308, 18.664715, 19.655705], \n",
    "    entropy2=[9.098748, 8.959527, 8.921971, 8.754467],\n",
    "    cr=[(8*51*16*16)/3309568, (16*51*16*16)/3309568, (32*51*16*16)/3309568, (64*51*16*16)/3309568]))\n",
    "sscnet = pd.DataFrame(dict(\n",
    "    psnr=[31.906037, 31.653874, 31.107048, 30.722654], \n",
    "    entropy1=[19.646980, 18.651877, 17.654591, 16.656178], \n",
    "    entropy2=[8.764809, 8.805354, 8.892290, 8.956616],\n",
    "    cr=[(3232*16*16)/3309568, (1616*16*16)/3309568, (808*16*16)/3309568, (404*16*16)/3309568]))\n",
    "linerwkv = pd.DataFrame(dict(\n",
    "    psnr=[69.687609, 59.031683, 55.056647, 52.989961, 51.126869], \n",
    "    entropy1=[3.797908, 2.136309, 1.443879, 1.042736, 0.685562], \n",
    "    cr=[1, 1, 1, 1, 1]))\n",
    "\n",
    "sgst = pd.DataFrame(dict(\n",
    "    psnr=[45.280275, 44.883903, 43.726225, 40.922772, 38.579958], \n",
    "    entropy1=[2.171043, 1.488202, 0.955253, 0.557075, 0.340648], \n",
    "    entropy2=[6.371312, 6.376611, 6.405887, 6.475108, 6.529373],\n",
    "    cr=[1, 1, 1, 1, 1]))\n",
    "\n",
    "cae1d['entropy_avg'] = cae1d['entropy1'] * cae1d['cr']\n",
    "cae3d['entropy_avg'] = cae3d['entropy1'] * cae3d['cr']\n",
    "sscnet['entropy_avg'] = sscnet['entropy1'] * sscnet['cr']\n",
    "linerwkv['entropy_avg'] = linerwkv['entropy1'] * linerwkv['cr']\n",
    "sgst['entropy_avg'] = sgst['entropy1'] * sgst['cr']"
   ]
  },
  {
   "cell_type": "code",
   "execution_count": 8,
   "id": "49c44bff-c312-4c76-b0af-1fd1ffe6cb14",
   "metadata": {},
   "outputs": [
    {
     "data": {
      "image/png": "[encoded data removed]",
      "text/plain": [
       "<Figure size 640x480 with 1 Axes>"
      ]
     },
     "metadata": {},
     "output_type": "display_data"
    }
   ],
   "source": [
    "import matplotlib.pyplot as plt\n",
    "plt.rcParams['font.family'] = 'Times New Roman' \n",
    "plt.rcParams.update({\n",
    "    'font.size': 14,                \n",
    "    'axes.titlesize': 16,           \n",
    "    'axes.labelsize': 14,           \n",
    "    'xtick.labelsize': 12,          \n",
    "    'ytick.labelsize': 12,          \n",
    "    'legend.fontsize': 12,          \n",
    "    'figure.titlesize': 18          \n",
    "})\n",
    "\n",
    "plt.plot(cae1d['entropy_avg'], cae1d['psnr'], marker='^', linestyle='--', color='g', label='1D-CAE')\n",
    "plt.plot(cae3d['entropy_avg'], cae3d['psnr'], marker='v', linestyle='--', color='orange', label='3D-CAE')\n",
    "plt.plot(sscnet['entropy_avg'], sscnet['psnr'], marker='x', linestyle='--', color='r', label='SSCNet')\n",
    "plt.plot(linerwkv['entropy_avg'], linerwkv['psnr'], marker='D', linestyle='--', color='purple', label='LineRWKV')\n",
    "plt.plot(sgst['entropy_avg'], sgst['psnr'], marker='s', linestyle='-', color='b', label='SGST')\n",
    "plt.ylabel('PSNR[dB]')\n",
    "plt.xlabel('H$_{avg}$')\n",
    "plt.grid()\n",
    "plt.ylim([25, 72])\n",
    "plt.legend()\n",
    "plt.savefig('PSNR.png', dpi=600)"
   ]
  },
  {
   "cell_type": "code",
   "execution_count": 14,
   "id": "e890147e-dee5-49ce-aedc-f976bbd7e099",
   "metadata": {},
   "outputs": [
    {
     "data": {
      "text/plain": [
       "0    10.838263\n",
       "1     8.229585\n",
       "dtype: float64"
      ]
     },
     "execution_count": 14,
     "metadata": {},
     "output_type": "execute_result"
    }
   ],
   "source": [
    "cae1d['entropy_avg']  + cae1d['entropy2']"
   ]
  },
  {
   "cell_type": "code",
   "execution_count": 15,
   "id": "bc6377da-d7c7-46d4-beeb-bac6ed256e37",
   "metadata": {},
   "outputs": [
    {
     "data": {
      "text/plain": [
       "0     9.624847\n",
       "1    10.074730\n",
       "2    11.278160\n",
       "3    13.717046\n",
       "dtype: float64"
      ]
     },
     "execution_count": 15,
     "metadata": {},
     "output_type": "execute_result"
    }
   ],
   "source": [
    "cae3d['entropy_avg'] + cae3d['entropy2']"
   ]
  },
  {
   "cell_type": "code",
   "execution_count": 16,
   "id": "ac5cb09d-dd92-434d-9da4-aedffdb3f701",
   "metadata": {},
   "outputs": [
    {
     "data": {
      "text/plain": [
       "0    13.676554\n",
       "1    11.136839\n",
       "2     9.995702\n",
       "3     9.477122\n",
       "dtype: float64"
      ]
     },
     "execution_count": 16,
     "metadata": {},
     "output_type": "execute_result"
    }
   ],
   "source": [
    "sscnet['entropy_avg'] + sscnet['entropy2']"
   ]
  },
  {
   "cell_type": "code",
   "execution_count": 17,
   "id": "ae32b0af-16ab-4ef8-bea3-86773eef634e",
   "metadata": {},
   "outputs": [
    {
     "data": {
      "text/plain": [
       "0    8.542355\n",
       "1    7.864813\n",
       "2    7.361140\n",
       "3    7.032183\n",
       "4    6.870021\n",
       "dtype: float64"
      ]
     },
     "execution_count": 17,
     "metadata": {},
     "output_type": "execute_result"
    }
   ],
   "source": [
    "sgst['entropy_avg'] + sgst['entropy2']"
   ]
  },
  {
   "cell_type": "code",
   "execution_count": null,
   "id": "03bc65a5-f607-4d0d-929a-f9b22a8b6222",
   "metadata": {},
   "outputs": [],
   "source": []
  }
 ],
 "metadata": {
  "kernelspec": {
   "display_name": "Python 3 (ipykernel)",
   "language": "python",
   "name": "python3"
  },
  "language_info": {
   "codemirror_mode": {
    "name": "ipython",
    "version": 3
   },
   "file_extension": ".py",
   "mimetype": "text/x-python",
   "name": "python",
   "nbconvert_exporter": "python",
   "pygments_lexer": "ipython3",
   "version": "3.11.5"
  }
 },
 "nbformat": 4,
 "nbformat_minor": 5
}
